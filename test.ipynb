{
 "cells": [
  {
   "cell_type": "code",
   "execution_count": 13,
   "metadata": {},
   "outputs": [],
   "source": [
    "import numpy as np\n",
    "import problem.deflect\n",
    "import problem.construct_proton_flux\n",
    "import pradreader"
   ]
  },
  {
   "cell_type": "code",
   "execution_count": 42,
   "metadata": {},
   "outputs": [],
   "source": [
    "def load_data():\n",
    "    filenamephix = \"./examples/donut/solve/phix399000.txt\"\n",
    "    filenamephiy = \"./examples/donut/solve/phiy399000.txt\"\n",
    "    fileinput = \"./examples/donut/fixedinput.txt\"\n",
    "    phix = np.loadtxt(filenamephix, delimiter=',')\n",
    "    phiy = np.loadtxt(filenamephiy, delimiter=',')\n",
    "    prad = pradreader.reader.loadPRR(ifile=fileinput)\n",
    "    flux = prad.flux2D\n",
    "    x, y = calc_coord(.001, .001, flux.shape)\n",
    "    return (phix, phiy, prad, x, y)"
   ]
  },
  {
   "cell_type": "code",
   "execution_count": 43,
   "metadata": {},
   "outputs": [],
   "source": [
    "def calc_coord(dx, dy, shape):\n",
    "    lenx = shape[0]\n",
    "    leny = shape[1]\n",
    "    totx = (lenx-1)*dx\n",
    "    toty = (leny-1)*dy\n",
    "    print(totx)\n",
    "    x = np.linspace(-totx/2, totx/2, num=lenx, endpoint=True)\n",
    "    y = np.linspace(-toty/2, toty/2, num=leny, endpoint=True)\n",
    "    x, y = np.meshgrid(x, y, indexing=\"ij\")\n",
    "    return(x, y)\n"
   ]
  },
  {
   "cell_type": "code",
   "execution_count": 45,
   "metadata": {},
   "outputs": [
    {
     "name": "stdout",
     "output_type": "stream",
     "text": [
      "Reading contents of file: ./examples/donut/fixedinput.txt\n",
      "(400, 200)\n",
      "File read complete.\n",
      "Validating elements of the prad object...\n",
      "[No validation function written! Continuing...]\n",
      "0.199\n"
     ]
    }
   ],
   "source": [
    "phix, phiy, prad, x, y = load_data()\n",
    "# distance from source to plasma\n",
    "ri = prad.s2r_cm\n",
    "# distance from plasma to screen\n",
    "rs = prad.s2d_cm-ri\n",
    "E = prad.Ep_MeV\n",
    "pixel = prad.bin_um"
   ]
  },
  {
   "cell_type": "code",
   "execution_count": null,
   "metadata": {},
   "outputs": [],
   "source": []
  }
 ],
 "metadata": {
  "kernelspec": {
   "display_name": "Python 3",
   "language": "python",
   "name": "python3"
  },
  "language_info": {
   "codemirror_mode": {
    "name": "ipython",
    "version": 3
   },
   "file_extension": ".py",
   "mimetype": "text/x-python",
   "name": "python",
   "nbconvert_exporter": "python",
   "pygments_lexer": "ipython3",
   "version": "3.6.5"
  }
 },
 "nbformat": 4,
 "nbformat_minor": 2
}
